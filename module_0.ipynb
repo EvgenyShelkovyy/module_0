{
 "cells": [
  {
   "cell_type": "code",
   "execution_count": 25,
   "metadata": {},
   "outputs": [
    {
     "name": "stdout",
     "output_type": "stream",
     "text": [
      "Мой алгоритм угадывает число в среднем за 5 попыток\n",
      "5\n"
     ]
    }
   ],
   "source": [
    "import numpy as np\n",
    "number = np.random.randint(1,101)   # guess an integer in the range from 1 to 100\n",
    "\n",
    "\n",
    "def game_core_v3(number):\n",
    "    '''Binary search function'''\n",
    "    count = 1                       # attempt counter\n",
    "    predict = 50                    # primary selection number \n",
    "    min_predict = 1                 # setting the search range, min and max\n",
    "    max_predict = 101\n",
    "    \n",
    "    while predict != number:        # binary matching cycle\n",
    "        if predict > number: \n",
    "            max_predict = predict\n",
    "        else:\n",
    "            min_predict = predict\n",
    "        predict = min_predict + (max_predict - min_predict)//2\n",
    "        count += 1\n",
    "        \n",
    "    return count                    # returning the number of attempts               \n",
    "\n",
    "\n",
    "def score_game(game_core):\n",
    "    '''Repeat run function 1000 times for accurate analysis'''\n",
    "    count_ls = []\n",
    "    random_array = np.random.randint(1,101, size=(1000))\n",
    "    np.random.seed(1)              # we fix the RANDOM SEED\n",
    "    \n",
    "    for number in random_array:\n",
    "        count_ls.append(game_core(number))\n",
    "        \n",
    "    score = int(np.mean(count_ls))\n",
    "    print(f\"Мой алгоритм угадывает число в среднем за {score} попыток\")\n",
    "    \n",
    "    return score                     # returning the average number of attempts\n",
    "\n",
    "\n",
    "print(score_game(game_core_v3))"
   ]
  },
  {
   "cell_type": "code",
   "execution_count": null,
   "metadata": {},
   "outputs": [],
   "source": []
  }
 ],
 "metadata": {
  "kernelspec": {
   "display_name": "Python 3",
   "language": "python",
   "name": "python3"
  },
  "language_info": {
   "codemirror_mode": {
    "name": "ipython",
    "version": 3
   },
   "file_extension": ".py",
   "mimetype": "text/x-python",
   "name": "python",
   "nbconvert_exporter": "python",
   "pygments_lexer": "ipython3",
   "version": "3.8.5"
  }
 },
 "nbformat": 4,
 "nbformat_minor": 4
}
